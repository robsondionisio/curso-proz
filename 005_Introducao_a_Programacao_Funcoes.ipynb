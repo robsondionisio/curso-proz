{
  "nbformat": 4,
  "nbformat_minor": 0,
  "metadata": {
    "colab": {
      "provenance": [],
      "authorship_tag": "ABX9TyPFNbS6SplemIihOgq7DnxJ",
      "include_colab_link": true
    },
    "kernelspec": {
      "name": "python3",
      "display_name": "Python 3"
    },
    "language_info": {
      "name": "python"
    }
  },
  "cells": [
    {
      "cell_type": "markdown",
      "metadata": {
        "id": "view-in-github",
        "colab_type": "text"
      },
      "source": [
        "<a href=\"https://colab.research.google.com/github/robsondionisio/curso-proz/blob/main/005_Introducao_a_Programacao_Funcoes.ipynb\" target=\"_parent\"><img src=\"https://colab.research.google.com/assets/colab-badge.svg\" alt=\"Open In Colab\"/></a>"
      ]
    },
    {
      "cell_type": "markdown",
      "source": [
        "**Instruções do Projeto**\n",
        "\n",
        "Faça uma função calculadora que os números e as operações serão feitas pelo usuário. O código deve ficar rodando infinitamente até que o usuário escolha a opção de sair. No início, o programa mostrará a seguinte lista de operações:\n",
        "\n",
        "1: Soma <br>\n",
        "2: Subtração <br>\n",
        "3: Multiplicação <br>\n",
        "4: Divisão <br>\n",
        "0: Sair <br>\n",
        "\n",
        "Digite o número para a operação correspondente e caso o usuário introduza qualquer outro, o sistema deve mostrar a mensagem “Essa opção não existe” e voltar ao menu de opções.\n",
        "\n",
        "Após a seleção, o sistema deve pedir para o usuário inserir o primeiro e segundo valor, um de cada. Depois precisa executar a operação e mostrar o resultado na tela. Quando o usuário escolher a opção “Sair”, o sistema irá parar.\n",
        "\n",
        "É necessário que o sistema mostre as opções sempre que finalizar uma operação e mostrar o resultado."
      ],
      "metadata": {
        "id": "ppl_pG7ai0Dk"
      }
    },
    {
      "cell_type": "code",
      "execution_count": 5,
      "metadata": {
        "colab": {
          "base_uri": "https://localhost:8080/"
        },
        "id": "9kHWlS2Ofq--",
        "outputId": "f11f1b26-2286-46c5-e658-50f95e4c98cd"
      },
      "outputs": [
        {
          "name": "stdout",
          "output_type": "stream",
          "text": [
            "Qual operação você quer realizar?\n",
            "1: Soma\n",
            "2: Subtração\n",
            "3: Multiplicação\n",
            "4: Divisão\n",
            "0: Sair\n",
            "1\n",
            "Insira o primeiro número da operação: \n",
            "5\n",
            "Insira o segundo número da operação: \n",
            "6\n",
            "O resultado é:  11\n",
            "Qual operação você quer realizar?\n",
            "1: Soma\n",
            "2: Subtração\n",
            "3: Multiplicação\n",
            "4: Divisão\n",
            "0: Sair\n",
            "0\n"
          ]
        }
      ],
      "source": [
        "# === Função ===\n",
        "def calculadora (num1, num2, num_operacao):\n",
        "  if (num_operacao == 1):\n",
        "    return num1 + num2\n",
        "  elif (num_operacao == 2):\n",
        "    return num1 - num2\n",
        "  elif (num_operacao == 3):\n",
        "    return num1 * num2\n",
        "  elif (num_operacao == 4):\n",
        "    return num1 / num2\n",
        "  else:\n",
        "    return 0\n",
        "\n",
        "# === Variável Executar recebe valor de Verdadeiro ===\n",
        "executar = True\n",
        "\n",
        "# === Loop de Repetição com Estrutura Condicionais ===\n",
        "while (executar == True):\n",
        "  print(\"Qual operação você quer realizar?\")\n",
        "  print(\"1: Soma\\n2: Subtração\\n3: Multiplicação\\n4: Divisão\\n0: Sair\")\n",
        "  operacao = int(input())\n",
        "  if (operacao < 0) or (operacao > 4):\n",
        "    print(\"Essa opção não existe.\")\n",
        "  elif (operacao == 0):\n",
        "    executar = False\n",
        "  else:\n",
        "    print(\"Insira o primeiro número da operação: \")\n",
        "    num1 = int(input())\n",
        "    print(\"Insira o segundo número da operação: \")\n",
        "    num2 = int(input())\n",
        "    resultado = calculadora (num1, num2, operacao)\n",
        "    print(\"O resultado é: \", resultado)"
      ]
    }
  ]
}