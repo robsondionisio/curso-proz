{
  "nbformat": 4,
  "nbformat_minor": 0,
  "metadata": {
    "colab": {
      "provenance": [],
      "authorship_tag": "ABX9TyOI3d0VATuLSC79JebYHS+P",
      "include_colab_link": true
    },
    "kernelspec": {
      "name": "python3",
      "display_name": "Python 3"
    },
    "language_info": {
      "name": "python"
    }
  },
  "cells": [
    {
      "cell_type": "markdown",
      "metadata": {
        "id": "view-in-github",
        "colab_type": "text"
      },
      "source": [
        "<a href=\"https://colab.research.google.com/github/robsondionisio/curso-proz/blob/main/003_Introducao_a_Programacao_Lacos_de_Repeticao.ipynb\" target=\"_parent\"><img src=\"https://colab.research.google.com/assets/colab-badge.svg\" alt=\"Open In Colab\"/></a>"
      ]
    },
    {
      "cell_type": "markdown",
      "source": [
        "\n",
        "**Instruções do projeto:**\n",
        "\n",
        "Precisamos imprimir um número para cada andar de um hotel de 20 andares. Porém, o dono do hotel é supersticioso e optou por não ter um 13ro andar.\n",
        "\n",
        "Escreva um código que imprima todos os números exceto o número 13.\n",
        "Escreva mais dois códigos que resolvam o mesmo problema, mas dessa vez usando os outros dois tipos de laços de repetição aprendidos.\n",
        "\n",
        "Como desafio, imprima eles em ordem decrescente (20, 19, 18...)\n"
      ],
      "metadata": {
        "id": "oNq7zCg2y5OF"
      }
    },
    {
      "cell_type": "code",
      "source": [
        "\"\"\"\n",
        "Laço For - Ordem Crescente\n",
        "\"\"\"\n",
        "contador = 0\n",
        "andares = 21\n",
        "\n",
        "for contador in range(21):\n",
        "  if (contador == 0):\n",
        "    print ('Térreo')\n",
        "    continue\n",
        "  if (contador == 13):\n",
        "    continue\n",
        "  print(contador, '° Andar')"
      ],
      "metadata": {
        "id": "rKSOw8eizHyr",
        "colab": {
          "base_uri": "https://localhost:8080/"
        },
        "outputId": "a07c0de4-ee3e-478f-9500-f1aa06297ed0"
      },
      "execution_count": 1,
      "outputs": [
        {
          "output_type": "stream",
          "name": "stdout",
          "text": [
            "Térreo\n",
            "1 ° Andar\n",
            "2 ° Andar\n",
            "3 ° Andar\n",
            "4 ° Andar\n",
            "5 ° Andar\n",
            "6 ° Andar\n",
            "7 ° Andar\n",
            "8 ° Andar\n",
            "9 ° Andar\n",
            "10 ° Andar\n",
            "11 ° Andar\n",
            "12 ° Andar\n",
            "14 ° Andar\n",
            "15 ° Andar\n",
            "16 ° Andar\n",
            "17 ° Andar\n",
            "18 ° Andar\n",
            "19 ° Andar\n",
            "20 ° Andar\n"
          ]
        }
      ]
    },
    {
      "cell_type": "code",
      "source": [
        "\"\"\"\n",
        "Laço For - Ordem Decrescente\n",
        "\"\"\"\n",
        "\n",
        "for contador in range(20, 0, -1):\n",
        "  if (contador == 13):\n",
        "    continue\n",
        "  else:\n",
        "    print(contador, '° Andar')"
      ],
      "metadata": {
        "id": "e1o6RNGjK_UK",
        "colab": {
          "base_uri": "https://localhost:8080/"
        },
        "outputId": "c32aa6e9-9280-44c4-d51f-675b6b8a945f"
      },
      "execution_count": 2,
      "outputs": [
        {
          "output_type": "stream",
          "name": "stdout",
          "text": [
            "20 ° Andar\n",
            "19 ° Andar\n",
            "18 ° Andar\n",
            "17 ° Andar\n",
            "16 ° Andar\n",
            "15 ° Andar\n",
            "14 ° Andar\n",
            "12 ° Andar\n",
            "11 ° Andar\n",
            "10 ° Andar\n",
            "9 ° Andar\n",
            "8 ° Andar\n",
            "7 ° Andar\n",
            "6 ° Andar\n",
            "5 ° Andar\n",
            "4 ° Andar\n",
            "3 ° Andar\n",
            "2 ° Andar\n",
            "1 ° Andar\n"
          ]
        }
      ]
    },
    {
      "cell_type": "code",
      "source": [
        "\"\"\"\n",
        "Laço While - Ordem Crescente\n",
        "\"\"\"\n",
        "\n",
        "contador = 0\n",
        "andares = 21\n",
        "\n",
        "while (contador < andares):\n",
        "  if(contador == 13):\n",
        "    contador +=1\n",
        "  elif (contador == 0):\n",
        "    print('Térreo')\n",
        "    contador +=1\n",
        "  else:\n",
        "    print(contador, '° Andar')\n",
        "    contador +=1"
      ],
      "metadata": {
        "id": "2Ddg7--9AN47",
        "colab": {
          "base_uri": "https://localhost:8080/"
        },
        "outputId": "88ef2378-778c-479e-9bf8-0088d77e4482"
      },
      "execution_count": 3,
      "outputs": [
        {
          "output_type": "stream",
          "name": "stdout",
          "text": [
            "Térreo\n",
            "1 ° Andar\n",
            "2 ° Andar\n",
            "3 ° Andar\n",
            "4 ° Andar\n",
            "5 ° Andar\n",
            "6 ° Andar\n",
            "7 ° Andar\n",
            "8 ° Andar\n",
            "9 ° Andar\n",
            "10 ° Andar\n",
            "11 ° Andar\n",
            "12 ° Andar\n",
            "14 ° Andar\n",
            "15 ° Andar\n",
            "16 ° Andar\n",
            "17 ° Andar\n",
            "18 ° Andar\n",
            "19 ° Andar\n",
            "20 ° Andar\n"
          ]
        }
      ]
    },
    {
      "cell_type": "code",
      "source": [
        "\"\"\"\n",
        "Laço While - Ordem Decrescente\n",
        "\"\"\"\n",
        "\n",
        "andares = 20\n",
        "\n",
        "while (andares >=0):\n",
        "  if (andares == 13):\n",
        "    andares -=1\n",
        "  elif (andares == 0):\n",
        "    print('Térreo')\n",
        "    andares -=1\n",
        "  else:\n",
        "    print(andares, '° Andar')\n",
        "    andares -=1"
      ],
      "metadata": {
        "id": "31GPfWgQD41z",
        "colab": {
          "base_uri": "https://localhost:8080/"
        },
        "outputId": "9adedb97-d2f1-44d0-f25a-7c76cca0134f"
      },
      "execution_count": 4,
      "outputs": [
        {
          "output_type": "stream",
          "name": "stdout",
          "text": [
            "20 ° Andar\n",
            "19 ° Andar\n",
            "18 ° Andar\n",
            "17 ° Andar\n",
            "16 ° Andar\n",
            "15 ° Andar\n",
            "14 ° Andar\n",
            "12 ° Andar\n",
            "11 ° Andar\n",
            "10 ° Andar\n",
            "9 ° Andar\n",
            "8 ° Andar\n",
            "7 ° Andar\n",
            "6 ° Andar\n",
            "5 ° Andar\n",
            "4 ° Andar\n",
            "3 ° Andar\n",
            "2 ° Andar\n",
            "1 ° Andar\n",
            "Térreo\n"
          ]
        }
      ]
    }
  ]
}