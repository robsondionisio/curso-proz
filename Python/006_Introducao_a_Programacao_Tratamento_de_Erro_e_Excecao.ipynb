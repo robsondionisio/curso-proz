{
  "nbformat": 4,
  "nbformat_minor": 0,
  "metadata": {
    "colab": {
      "provenance": [],
      "authorship_tag": "ABX9TyNtMj+kZp/M7aJeuP5cjMOW",
      "include_colab_link": true
    },
    "kernelspec": {
      "name": "python3",
      "display_name": "Python 3"
    },
    "language_info": {
      "name": "python"
    }
  },
  "cells": [
    {
      "cell_type": "markdown",
      "metadata": {
        "id": "view-in-github",
        "colab_type": "text"
      },
      "source": [
        "<a href=\"https://colab.research.google.com/github/robsondionisio/curso-proz/blob/main/006_Introducao_a_Programacao_Tratamento_de_Erro_e_Excecao.ipynb\" target=\"_parent\"><img src=\"https://colab.research.google.com/assets/colab-badge.svg\" alt=\"Open In Colab\"/></a>"
      ]
    },
    {
      "cell_type": "markdown",
      "source": [
        "**Instruções do Projeto**\n",
        "\n",
        "Desenvolva um programa que recebe do usuário nome completo e ano de nascimento que seja entre 1922 e 2021.\n",
        "\n",
        "A partir dessas informações, o sistema mostrará o nome do usuário e a idade que completou, ou completará, no ano atual (2022).\n",
        "\n",
        "Caso o usuário não digite um número ou apareça um inválido no campo do ano, o sistema informará o erro e continuará perguntando até que um valor correto seja preenchido."
      ],
      "metadata": {
        "id": "g0RLeAZok8qF"
      }
    },
    {
      "cell_type": "code",
      "execution_count": 3,
      "metadata": {
        "colab": {
          "base_uri": "https://localhost:8080/"
        },
        "id": "5YipJ8BFklt8",
        "outputId": "c29785c7-c9b5-42b3-8a15-79e4983437e2"
      },
      "outputs": [
        {
          "output_type": "stream",
          "name": "stdout",
          "text": [
            "Digite seu nome: \n",
            "Robson\n",
            "Digite seu ano de nascimento: \n",
            "1995\n",
            "O usuário Robson completou ou completará 28 anos de idade em 2022\n"
          ]
        }
      ],
      "source": [
        "print(\"Digite seu nome: \")\n",
        "nome = input()\n",
        "\n",
        "executar = True\n",
        "\n",
        "while (executar == True):\n",
        "  print(\"Digite seu ano de nascimento: \")\n",
        "  try:\n",
        "    ano = int(input())\n",
        "    if (ano < 1992) or (ano > 2021):\n",
        "      print(\"O ano precisa ser entre 1922 e 2021\")\n",
        "    else:\n",
        "      idade = 2023 - ano\n",
        "    print(\"O usuário\", nome, \"completou ou completará\", idade, \"anos de idade em 2022\")\n",
        "    executar = False\n",
        "  except:\n",
        "    print(\"Os anos precisam ser escritos apenas com números\")"
      ]
    }
  ]
}