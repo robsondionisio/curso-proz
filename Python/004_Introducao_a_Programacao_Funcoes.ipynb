{
  "nbformat": 4,
  "nbformat_minor": 0,
  "metadata": {
    "colab": {
      "provenance": [],
      "authorship_tag": "ABX9TyNKW8SCW6cMcWSnemBbPtKQ",
      "include_colab_link": true
    },
    "kernelspec": {
      "name": "python3",
      "display_name": "Python 3"
    },
    "language_info": {
      "name": "python"
    }
  },
  "cells": [
    {
      "cell_type": "markdown",
      "metadata": {
        "id": "view-in-github",
        "colab_type": "text"
      },
      "source": [
        "<a href=\"https://colab.research.google.com/github/robsondionisio/curso-proz/blob/main/004_Introducao_a_Programacao_Funcoes.ipynb\" target=\"_parent\"><img src=\"https://colab.research.google.com/assets/colab-badge.svg\" alt=\"Open In Colab\"/></a>"
      ]
    },
    {
      "cell_type": "markdown",
      "source": [
        "**Instruções do Projeto**\n",
        "\n",
        "Faça uma função calculadora de dois números com três parâmetros: os dois primeiros serão os números da operação e o terceiro será a entrada que definirá a operação a ser executada. Considera a seguinte definição:\n",
        "1. Soma\n",
        "2. Subtração\n",
        "3. Multiplicação\n",
        "4. Divisão\n",
        "\n",
        "Caso seja inserido um número de operação que não exista, o resultado deverá ser 0."
      ],
      "metadata": {
        "id": "7tp-2Sl-bTtN"
      }
    },
    {
      "cell_type": "code",
      "execution_count": 7,
      "metadata": {
        "colab": {
          "base_uri": "https://localhost:8080/"
        },
        "id": "EOU1On--axLS",
        "outputId": "882e92db-229a-4731-e9e7-04f5ef5d1e69"
      },
      "outputs": [
        {
          "output_type": "stream",
          "name": "stdout",
          "text": [
            "15\n"
          ]
        }
      ],
      "source": [
        "# === Função ===\n",
        "def calculadora (num1, num2, num_operacao):\n",
        "  if (num_operacao == 1): return num1 + num2\n",
        "  elif (num_operacao == 2): return num1 - num2\n",
        "  elif (num_operacao == 3): return num1 * num2\n",
        "  elif (num_operacao == 4): return num1 / num2\n",
        "  else: return 0\n",
        "\n",
        "# === Atribuindo a função na variável ===\n",
        "resultado = calculadora(10,5,1)\n",
        "\n",
        "# === Imprindo o valor da variável ===\n",
        "print(resultado)"
      ]
    },
    {
      "cell_type": "code",
      "source": [
        "# === Função ===\n",
        "def calculadora (num1, num2, num_operacao):\n",
        "  if (num_operacao == 1): return num1 + num2\n",
        "  elif (num_operacao == 2): return num1 - num2\n",
        "  elif (num_operacao == 3): return num1 * num2\n",
        "  elif (num_operacao == 4): return num1 / num2\n",
        "  else: return 0\n",
        "\n",
        "# === Atribuindo a função na variável ===\n",
        "resultado = calculadora(10,6,2)\n",
        "\n",
        "# === Imprindo o valor da variável ===\n",
        "print(resultado)"
      ],
      "metadata": {
        "colab": {
          "base_uri": "https://localhost:8080/"
        },
        "id": "b8qlU3i4daHT",
        "outputId": "af50643e-05cf-4ea2-f373-cef4e89118ca"
      },
      "execution_count": 9,
      "outputs": [
        {
          "output_type": "stream",
          "name": "stdout",
          "text": [
            "4\n"
          ]
        }
      ]
    },
    {
      "cell_type": "code",
      "source": [
        "# === Função ===\n",
        "def calculadora (num1, num2, num_operacao):\n",
        "  if (num_operacao == 1): return num1 + num2\n",
        "  elif (num_operacao == 2): return num1 - num2\n",
        "  elif (num_operacao == 3): return num1 * num2\n",
        "  elif (num_operacao == 4): return num1 / num2\n",
        "  else: return 0\n",
        "\n",
        "# === Atribuindo a função na variável ===\n",
        "resultado = calculadora(10,5,3)\n",
        "\n",
        "# === Imprindo o valor da variável ===\n",
        "print(resultado)"
      ],
      "metadata": {
        "colab": {
          "base_uri": "https://localhost:8080/"
        },
        "id": "AfjV8B3ydelr",
        "outputId": "760d6c47-c734-47e0-bfe9-6ec10c03fb5c"
      },
      "execution_count": 10,
      "outputs": [
        {
          "output_type": "stream",
          "name": "stdout",
          "text": [
            "50\n"
          ]
        }
      ]
    },
    {
      "cell_type": "code",
      "source": [
        "# === Função ===\n",
        "def calculadora (num1, num2, num_operacao):\n",
        "  if (num_operacao == 1): return num1 + num2\n",
        "  elif (num_operacao == 2): return num1 - num2\n",
        "  elif (num_operacao == 3): return num1 * num2\n",
        "  elif (num_operacao == 4): return num1 / num2\n",
        "  else: return 0\n",
        "\n",
        "# === Atribuindo a função na variável ===\n",
        "resultado = calculadora(10,2,4)\n",
        "\n",
        "# === Imprindo o valor da variável ===\n",
        "print(resultado)"
      ],
      "metadata": {
        "colab": {
          "base_uri": "https://localhost:8080/"
        },
        "id": "Z25FmbnKdiFy",
        "outputId": "f45d4664-1002-4b3b-e0bc-616d0d9b37de"
      },
      "execution_count": 11,
      "outputs": [
        {
          "output_type": "stream",
          "name": "stdout",
          "text": [
            "5.0\n"
          ]
        }
      ]
    },
    {
      "cell_type": "code",
      "source": [
        "# === Função ===\n",
        "def calculadora (num1, num2, num_operacao):\n",
        "  if (num_operacao == 1): return num1 + num2\n",
        "  elif (num_operacao == 2): return num1 - num2\n",
        "  elif (num_operacao == 3): return num1 * num2\n",
        "  elif (num_operacao == 4): return num1 / num2\n",
        "  else: return 0\n",
        "\n",
        "# === Atribuindo a função na variável ===\n",
        "resultado = calculadora(10,5,5)\n",
        "\n",
        "# === Imprindo o valor da variável ===\n",
        "print(resultado)"
      ],
      "metadata": {
        "colab": {
          "base_uri": "https://localhost:8080/"
        },
        "id": "a7cmfesOdqrz",
        "outputId": "99975842-faed-4ed6-c9a1-6e8ac2851302"
      },
      "execution_count": 12,
      "outputs": [
        {
          "output_type": "stream",
          "name": "stdout",
          "text": [
            "0\n"
          ]
        }
      ]

    }
  ]
}
