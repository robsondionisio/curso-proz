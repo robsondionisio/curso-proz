{
  "nbformat": 4,
  "nbformat_minor": 0,
  "metadata": {
    "colab": {
      "provenance": [],
      "authorship_tag": "ABX9TyMCsJCb1CzGP1Qnyyi65l+e",
      "include_colab_link": true
    },
    "kernelspec": {
      "name": "python3",
      "display_name": "Python 3"
    },
    "language_info": {
      "name": "python"
    }
  },
  "cells": [
    {
      "cell_type": "markdown",
      "metadata": {
        "id": "view-in-github",
        "colab_type": "text"
      },
      "source": [
        "<a href=\"https://colab.research.google.com/github/robsondionisio/curso-proz/blob/main/002_Introducao_a_Programacao_Lacos_de_Repeticao.ipynb\" target=\"_parent\"><img src=\"https://colab.research.google.com/assets/colab-badge.svg\" alt=\"Open In Colab\"/></a>"
      ]
    },
    {
      "cell_type": "markdown",
      "source": [
        "**Instrução do Projeto**\n",
        "\n",
        "Desenvolva um código que utilize as seguintes características de um veículo:\n",
        "- Quantidade de rodas;\n",
        "- Peso bruto em quilogramas;\n",
        "- Quantidade de pessoas no veículo.\n",
        "\n",
        "Com essas informações, o programa mostrará qual é a melhor categoria de habilitação para o veículo informado a partir das condições:<br>\n",
        "A: Veículos com duas ou três rodas; <br>\n",
        "B: Veículos com quatro rodas, que acomodam até oito pessoas e seu peso é de até 3500 kg;<br>\n",
        "C: Veículos com quatro rodas ou mais e com peso entre 3500 e 6000 kg;<br>\n",
        "D: Veículos com quatro rodas ou mais e que acomodam mais de oito pessoas;<br> E: Veículos com quatro rodas ou mais e com mais de 6000 kg."
      ],
      "metadata": {
        "id": "ZzMV6VkYEs0g"
      }
    },
    {
      "cell_type": "code",
      "execution_count": 1,
      "metadata": {
        "colab": {
          "base_uri": "https://localhost:8080/"
        },
        "id": "nn7oZ1bh75pm",
        "outputId": "18b3f9c6-ff66-4bce-93d4-978e6b920e18"
      },
      "outputs": [
        {
          "output_type": "stream",
          "name": "stdout",
          "text": [
            "Categoria C\n"
          ]
        }
      ],
      "source": [
        "qtde_rodas = 4\n",
        "qtde_pessoas = 2\n",
        "peso_bruto = 4.500\n",
        "\n",
        "if (qtde_rodas == 2 or qtde_rodas == 3):\n",
        "  print(\"Categoria A\")\n",
        "elif (qtde_rodas == 4 and qtde_pessoas <= 8 and peso_bruto <= 3.500):\n",
        "  print(\"Categoria B\")\n",
        "elif (qtde_rodas >= 4 and peso_bruto >= 3.501 and peso_bruto <= 6.000):\n",
        "  print(\"Categoria C\")\n",
        "elif (qtde_rodas >= 4 and qtde_rodas > 8):\n",
        "  print(\"Categoria D\")\n",
        "elif (qtde_rodas >= 4 and peso_bruto > 6.000):\n",
        "  print(\"Categoria E\")"
      ]
    }
  ]
}
