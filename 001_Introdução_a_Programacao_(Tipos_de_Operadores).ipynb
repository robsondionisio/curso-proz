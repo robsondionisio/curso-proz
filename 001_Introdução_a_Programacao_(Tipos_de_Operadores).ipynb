{
  "nbformat": 4,
  "nbformat_minor": 0,
  "metadata": {
    "colab": {
      "provenance": [],
      "authorship_tag": "ABX9TyPvdoVeHxzQpKw5TS1PeACv",
      "include_colab_link": true
    },
    "kernelspec": {
      "name": "python3",
      "display_name": "Python 3"
    },
    "language_info": {
      "name": "python"
    }
  },
  "cells": [
    {
      "cell_type": "markdown",
      "metadata": {
        "id": "view-in-github",
        "colab_type": "text"
      },
      "source": [
        "<a href=\"https://colab.research.google.com/github/robsondionisio/curso-proz/blob/atualizacao/001_Introdu%C3%A7%C3%A3o_a_Programacao_(Tipos_de_Operadores).ipynb\" target=\"_parent\"><img src=\"https://colab.research.google.com/assets/colab-badge.svg\" alt=\"Open In Colab\"/></a>"
      ]
    },
    {
      "cell_type": "markdown",
      "source": [
        "**Instruções do projeto**\n",
        "\n",
        "Cada exercício da tabela em anexo tem declaração de variáveis e, na sequência, uma sentença que usa as variáveis e operadores lógicos. Determine qual é o resultado final (Verdadeiro ou Falso) de cada sentença.\n"
      ],
      "metadata": {
        "id": "DwO887ai6Fkn"
      }
    },
    {
      "cell_type": "code",
      "execution_count": 1,
      "metadata": {
        "colab": {
          "base_uri": "https://localhost:8080/"
        },
        "id": "wK3ziooS4Vxp",
        "outputId": "78e3173d-cd58-4a28-c56d-149c74f1bf9f"
      },
      "outputs": [
        {
          "output_type": "stream",
          "name": "stdout",
          "text": [
            "True\n"
          ]
        }
      ],
      "source": [
        "# Proposta 1\n",
        "\n",
        "nota = 10\n",
        "resultado = (nota <= 10)\n",
        "print(resultado)"
      ]
    },
    {
      "cell_type": "code",
      "source": [
        "# Proposta 2\n",
        "\n",
        "nota = 6\n",
        "faltas = 4\n",
        "resultado = (nota <= 6) and (faltas <= 3)\n",
        "print(resultado)"
      ],
      "metadata": {
        "colab": {
          "base_uri": "https://localhost:8080/"
        },
        "id": "Y_oEMGuU4lx1",
        "outputId": "9b03425c-2ef5-4a35-ff93-6367563e6cbf"
      },
      "execution_count": 2,
      "outputs": [
        {
          "output_type": "stream",
          "name": "stdout",
          "text": [
            "False\n"
          ]
        }
      ]
    },
    {
      "cell_type": "code",
      "source": [
        "# Proposta 3\n",
        "\n",
        "convidados = 3\n",
        "fumante = False\n",
        "resultado = (convidados > 4) or (fumante == True)\n",
        "print(resultado)"
      ],
      "metadata": {
        "colab": {
          "base_uri": "https://localhost:8080/"
        },
        "id": "oBQQzpMR4_5n",
        "outputId": "0f24875d-b8e8-428e-c5f9-4f58491d7e33"
      },
      "execution_count": 3,
      "outputs": [
        {
          "output_type": "stream",
          "name": "stdout",
          "text": [
            "False\n"
          ]
        }
      ]
    },
    {
      "cell_type": "code",
      "source": [
        "# Proposta 4\n",
        "\n",
        "dia = \"qua\"\n",
        "resultado = (dia == \"sab\") or (dia == \"dom\")\n",
        "print(resultado)"
      ],
      "metadata": {
        "colab": {
          "base_uri": "https://localhost:8080/"
        },
        "id": "F7ksPnl15UQ9",
        "outputId": "30cd2b60-3d1a-46ee-b5a2-2b993e0b80a8"
      },
      "execution_count": 4,
      "outputs": [
        {
          "output_type": "stream",
          "name": "stdout",
          "text": [
            "False\n"
          ]
        }
      ]
    },
    {
      "cell_type": "code",
      "source": [
        "# Proposta 5\n",
        "\n",
        "feriado = True\n",
        "resultado = not (feriado == False)\n",
        "print(resultado)"
      ],
      "metadata": {
        "colab": {
          "base_uri": "https://localhost:8080/"
        },
        "id": "U76-_Jiv5hrm",
        "outputId": "cdd1d48a-8df8-49a0-d73c-f1c91ff93906"
      },
      "execution_count": 5,
      "outputs": [
        {
          "output_type": "stream",
          "name": "stdout",
          "text": [
            "True\n"
          ]
        }
      ]
    },
    {
      "cell_type": "code",
      "source": [
        "# Proposta 6\n",
        "\n",
        "dia = \"ter\"\n",
        "feriado = False\n",
        "resultado = (dia == \"seg\") or not (feriado == False)\n",
        "print(resultado)"
      ],
      "metadata": {
        "colab": {
          "base_uri": "https://localhost:8080/"
        },
        "id": "rv3BZ3RE5ugu",
        "outputId": "cb83b731-54d5-4ce4-f87f-e600170060ec"
      },
      "execution_count": 7,
      "outputs": [
        {
          "output_type": "stream",
          "name": "stdout",
          "text": [
            "False\n"
          ]
        }
      ]
    }
  ]
}